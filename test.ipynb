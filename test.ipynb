{
  "nbformat": 4,
  "nbformat_minor": 0,
  "metadata": {
    "colab": {
      "provenance": [],
      "authorship_tag": "ABX9TyPpBZJNFy6HOq5Rihx12b/d",
      "include_colab_link": true
    },
    "kernelspec": {
      "name": "python3",
      "display_name": "Python 3"
    },
    "language_info": {
      "name": "python"
    }
  },
  "cells": [
    {
      "cell_type": "markdown",
      "metadata": {
        "id": "view-in-github",
        "colab_type": "text"
      },
      "source": [
        "<a href=\"https://colab.research.google.com/github/luisosmx/Best-README-Template/blob/master/test.ipynb\" target=\"_parent\"><img src=\"https://colab.research.google.com/assets/colab-badge.svg\" alt=\"Open In Colab\"/></a>"
      ]
    },
    {
      "cell_type": "code",
      "execution_count": 5,
      "metadata": {
        "colab": {
          "base_uri": "https://localhost:8080/"
        },
        "id": "dK88pC5NFaZ8",
        "outputId": "87490fd0-7d72-4f68-d27e-ef09d73e280a"
      },
      "outputs": [
        {
          "output_type": "stream",
          "name": "stdout",
          "text": [
            "4\n",
            "Not Weird\n"
          ]
        }
      ],
      "source": [
        "if __name__ == '__main__':\n",
        "    n = int(input().strip())\n",
        "\n",
        "\n",
        "if n % 2 != 0:\n",
        "    print('Weird')\n",
        "elif n in range(2,6):\n",
        "    print('Not Weird')\n",
        "elif n % 2 == 0 and n in range(6,21):\n",
        "    print('Weird')\n",
        "elif n % 2 == 0 and n >20:\n",
        "    print('Not Weird')"
      ]
    },
    {
      "cell_type": "code",
      "source": [
        "if __name__ == '__main__':\n",
        "    a = int(input())\n",
        "    b = int(input())\n",
        "\n",
        "sum = a + b\n",
        "print(f'sum',sum)\n",
        "difference = a - b\n",
        "print(f'difference',difference)\n",
        "product = a * b\n",
        "print(f'product',product)"
      ],
      "metadata": {
        "colab": {
          "base_uri": "https://localhost:8080/"
        },
        "id": "ODi8x-eWFgHW",
        "outputId": "0debcae5-e019-4886-cbd9-d729f6071150"
      },
      "execution_count": 11,
      "outputs": [
        {
          "output_type": "stream",
          "name": "stdout",
          "text": [
            "9\n",
            "7\n",
            "sum 16\n",
            "difference 2\n",
            "product 63\n"
          ]
        }
      ]
    },
    {
      "cell_type": "code",
      "source": [],
      "metadata": {
        "id": "bOddxuASLSI5"
      },
      "execution_count": null,
      "outputs": []
    }
  ]
}