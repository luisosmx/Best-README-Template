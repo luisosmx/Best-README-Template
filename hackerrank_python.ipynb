{
  "nbformat": 4,
  "nbformat_minor": 0,
  "metadata": {
    "colab": {
      "provenance": [],
      "authorship_tag": "ABX9TyNLF0tnaQ57IJuUaBJ8uTgJ",
      "include_colab_link": true
    },
    "kernelspec": {
      "name": "python3",
      "display_name": "Python 3"
    },
    "language_info": {
      "name": "python"
    }
  },
  "cells": [
    {
      "cell_type": "markdown",
      "metadata": {
        "id": "view-in-github",
        "colab_type": "text"
      },
      "source": [
        "<a href=\"https://colab.research.google.com/github/luisosmx/Best-README-Template/blob/master/hackerrank_python.ipynb\" target=\"_parent\"><img src=\"https://colab.research.google.com/assets/colab-badge.svg\" alt=\"Open In Colab\"/></a>"
      ]
    },
    {
      "cell_type": "code",
      "execution_count": null,
      "metadata": {
        "colab": {
          "base_uri": "https://localhost:8080/"
        },
        "id": "ksAGXtg9Me0w",
        "outputId": "6e39f53a-46eb-4940-befa-5c1e2428ad2f"
      },
      "outputs": [
        {
          "output_type": "stream",
          "name": "stdout",
          "text": [
            "wWW.hACKERrANK.COM\n"
          ]
        }
      ],
      "source": [
        "letra = \"Www.HackerRank.com\"\n",
        "letra_swapcase = letra.swapcase()\n",
        "print(letra_swapcase)\n"
      ]
    },
    {
      "cell_type": "code",
      "source": [
        "def swap_case(s):\n",
        "    letra = s\n",
        "    letra_swapcase = letra.swapcase()\n",
        "    return letra_swapcase\n",
        "\n",
        "if __name__ == '__main__':\n",
        "    s = input()\n",
        "    result = swap_case(s)\n",
        "    print(result)"
      ],
      "metadata": {
        "colab": {
          "base_uri": "https://localhost:8080/"
        },
        "id": "1HjBPgtrMtnX",
        "outputId": "a5cb09ae-8399-4acf-fa62-31d9924bc5fe"
      },
      "execution_count": null,
      "outputs": [
        {
          "output_type": "stream",
          "name": "stdout",
          "text": [
            "<class 'list'>\n"
          ]
        }
      ]
    },
    {
      "cell_type": "code",
      "source": [
        "txt = \"this is a string\"\n",
        "x = txt.split()\n",
        "txt_join = \"-\".join(x)\n",
        "print(txt_join)"
      ],
      "metadata": {
        "colab": {
          "base_uri": "https://localhost:8080/"
        },
        "id": "xPaMFVvcM9Ds",
        "outputId": "3f004bcb-b087-4a7b-d5aa-c85702034534"
      },
      "execution_count": null,
      "outputs": [
        {
          "output_type": "stream",
          "name": "stdout",
          "text": [
            "this-is-a-string\n"
          ]
        }
      ]
    },
    {
      "cell_type": "code",
      "source": [
        "last = input(\"Write your name: \")\n",
        "first = input(\"Write your last name: \")\n",
        "\n",
        "print(f\"Hello {last} {first}! You just delved into python.\")"
      ],
      "metadata": {
        "colab": {
          "base_uri": "https://localhost:8080/"
        },
        "id": "ooiHVlHTeEVD",
        "outputId": "9840f300-5aa5-4c4a-e13c-244a4e33dac1"
      },
      "execution_count": null,
      "outputs": [
        {
          "output_type": "stream",
          "name": "stdout",
          "text": [
            "Write your name: Luis\n",
            "Write your last name: Mejia\n",
            "Hello Luis Mejia! You just delved into python.\n"
          ]
        }
      ]
    },
    {
      "cell_type": "code",
      "source": [
        "string = [\"ABCDCDC\"]\n",
        "sub_str = string.count(\"CDC\")\n",
        "print(sub_str)"
      ],
      "metadata": {
        "colab": {
          "base_uri": "https://localhost:8080/"
        },
        "id": "V_H_Px3DAGSl",
        "outputId": "5653792d-b54a-4d56-f3d7-90b36ef5190b"
      },
      "execution_count": null,
      "outputs": [
        {
          "output_type": "stream",
          "name": "stdout",
          "text": [
            "0\n"
          ]
        }
      ]
    },
    {
      "cell_type": "code",
      "source": [
        "if __name__ == '__main__':\n",
        "    n = int(input())\n",
        "    if __name__ == '__main__':\n",
        "        n = int(input())\n",
        "    \n",
        "        for i in range(1, n + 1):\n",
        "            print(i, end = '')"
      ],
      "metadata": {
        "id": "VCoaG3XQAguo"
      },
      "execution_count": null,
      "outputs": []
    }
  ]
}