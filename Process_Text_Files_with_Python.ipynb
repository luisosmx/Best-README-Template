{
  "nbformat": 4,
  "nbformat_minor": 0,
  "metadata": {
    "colab": {
      "provenance": [],
      "authorship_tag": "ABX9TyN2SCswUgHa2JFs6p70GqCU",
      "include_colab_link": true
    },
    "kernelspec": {
      "name": "python3",
      "display_name": "Python 3"
    },
    "language_info": {
      "name": "python"
    }
  },
  "cells": [
    {
      "cell_type": "markdown",
      "metadata": {
        "id": "view-in-github",
        "colab_type": "text"
      },
      "source": [
        "<a href=\"https://colab.research.google.com/github/luisosmx/Best-README-Template/blob/master/Process_Text_Files_with_Python.ipynb\" target=\"_parent\"><img src=\"https://colab.research.google.com/assets/colab-badge.svg\" alt=\"Open In Colab\"/></a>"
      ]
    },
    {
      "cell_type": "code",
      "execution_count": null,
      "metadata": {
        "id": "9bbNAbB8gpCz"
      },
      "outputs": [],
      "source": [
        "#!/usr/bin/env python3\n",
        "import os\n",
        "import requests\n",
        "\n",
        "# set source dir for feedback file:\n",
        "src_dir = \"/data/feedback/\"\n",
        "\n",
        "# capture list of files:\n",
        "files = os.listdir(src_dir)\n",
        "\n",
        "# function to read file lines into list:\n",
        "def readlines(file):\n",
        "    with open(src_dir + file) as f:\n",
        "        lines = f.read().splitlines()\n",
        "    return lines\n",
        "\n",
        "\n",
        "# load feedback entries into dictionary:\n",
        "feedback = []\n",
        "keys = [\"title\", \"name\", \"date\", \"feedback\"]\n",
        "for file in files:\n",
        "    lines = readlines(file)\n",
        "    feedback.append(dict(zip(keys, lines)))\n",
        "\n",
        "# set host url:\n",
        "url = \"http://localhost/feedback/\"\n",
        "\n",
        "# post feedback entries:\n",
        "for entry in feedback:\n",
        "    response = requests.post(url, data=entry)\n",
        "    if response.ok:\n",
        "        print(\"loaded entry\")\n",
        "    else:\n",
        "        print(f\"load entry error: {response.status_code}\")\n",
        "\n",
        "\n"
      ]
    }
  ]
}